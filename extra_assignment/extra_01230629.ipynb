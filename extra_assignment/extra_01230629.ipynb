{
 "cells": [
  {
   "cell_type": "code",
   "execution_count": 2,
   "metadata": {},
   "outputs": [],
   "source": [
    "#! usr/bin/env python3\n",
    "import praw\n",
    "import pandas as pd\n",
    "import datetime as dt"
   ]
  },
  {
   "cell_type": "code",
   "execution_count": 4,
   "metadata": {},
   "outputs": [],
   "source": [
    "reddit = praw.Reddit(client_id='vBdqtaSNIRWOfg', \n",
    "                     client_secret='uJdM0HIQUxF6-0n8wgxN75QGlfU', \n",
    "                     user_agent='extra_assignment'\n",
    "                     )"
   ]
  },
  {
   "cell_type": "code",
   "execution_count": 5,
   "metadata": {},
   "outputs": [],
   "source": [
    "subreddit = reddit.subreddit('washingtondc')"
   ]
  },
  {
   "cell_type": "code",
   "execution_count": 6,
   "metadata": {},
   "outputs": [],
   "source": [
    "top_subreddit = subreddit.top(limit=500)"
   ]
  },
  {
   "cell_type": "code",
   "execution_count": 7,
   "metadata": {},
   "outputs": [
    {
     "name": "stdout",
     "output_type": "stream",
     "text": [
      "Every little bit counts 5pcees\n"
     ]
    }
   ],
   "source": [
    "for submission in subreddit.top(limit=1):\n",
    "    print(submission.title, submission.id)"
   ]
  },
  {
   "cell_type": "code",
   "execution_count": 9,
   "metadata": {},
   "outputs": [],
   "source": [
    "topics_dict = { \"title\":[], \n",
    "                \"score\":[], \n",
    "                \"id\":[], \"url\":[], \n",
    "                \"comms_num\": [], \n",
    "                \"created\": [], \n",
    "                \"body\":[]}"
   ]
  },
  {
   "cell_type": "code",
   "execution_count": 10,
   "metadata": {},
   "outputs": [],
   "source": [
    "for submission in top_subreddit:\n",
    "    topics_dict[\"title\"].append(submission.title)\n",
    "    topics_dict[\"score\"].append(submission.score)\n",
    "    topics_dict[\"id\"].append(submission.id)\n",
    "    topics_dict[\"url\"].append(submission.url)\n",
    "    topics_dict[\"comms_num\"].append(submission.num_comments)\n",
    "    topics_dict[\"created\"].append(submission.created)\n",
    "    topics_dict[\"body\"].append(submission.selftext)"
   ]
  },
  {
   "cell_type": "code",
   "execution_count": 11,
   "metadata": {},
   "outputs": [],
   "source": [
    "topics_data = pd.DataFrame(topics_dict)"
   ]
  },
  {
   "cell_type": "code",
   "execution_count": 12,
   "metadata": {},
   "outputs": [
    {
     "data": {
      "text/html": [
       "<div>\n",
       "<style scoped>\n",
       "    .dataframe tbody tr th:only-of-type {\n",
       "        vertical-align: middle;\n",
       "    }\n",
       "\n",
       "    .dataframe tbody tr th {\n",
       "        vertical-align: top;\n",
       "    }\n",
       "\n",
       "    .dataframe thead th {\n",
       "        text-align: right;\n",
       "    }\n",
       "</style>\n",
       "<table border=\"1\" class=\"dataframe\">\n",
       "  <thead>\n",
       "    <tr style=\"text-align: right;\">\n",
       "      <th></th>\n",
       "      <th>title</th>\n",
       "      <th>score</th>\n",
       "      <th>id</th>\n",
       "      <th>url</th>\n",
       "      <th>comms_num</th>\n",
       "      <th>created</th>\n",
       "      <th>body</th>\n",
       "    </tr>\n",
       "  </thead>\n",
       "  <tbody>\n",
       "    <tr>\n",
       "      <td>0</td>\n",
       "      <td>Every little bit counts</td>\n",
       "      <td>9187</td>\n",
       "      <td>5pcees</td>\n",
       "      <td>https://i.reddituploads.com/fa91b455743943a6bf...</td>\n",
       "      <td>1035</td>\n",
       "      <td>1.485056e+09</td>\n",
       "      <td></td>\n",
       "    </tr>\n",
       "    <tr>\n",
       "      <td>1</td>\n",
       "      <td>This is how many people are at the Women's Mar...</td>\n",
       "      <td>5794</td>\n",
       "      <td>5pbdhm</td>\n",
       "      <td>https://i.redd.it/4r0jhwibd3by.jpg</td>\n",
       "      <td>1103</td>\n",
       "      <td>1.485045e+09</td>\n",
       "      <td></td>\n",
       "    </tr>\n",
       "    <tr>\n",
       "      <td>2</td>\n",
       "      <td>Just out for a little jog today before the hur...</td>\n",
       "      <td>2876</td>\n",
       "      <td>129vlt</td>\n",
       "      <td>http://i.imgur.com/bHtwi.jpg</td>\n",
       "      <td>334</td>\n",
       "      <td>1.351547e+09</td>\n",
       "      <td></td>\n",
       "    </tr>\n",
       "    <tr>\n",
       "      <td>3</td>\n",
       "      <td>We really live in a beautiful place.</td>\n",
       "      <td>2225</td>\n",
       "      <td>5e5nhz</td>\n",
       "      <td>https://i.redd.it/hfdeeuyqo0zx.jpg</td>\n",
       "      <td>46</td>\n",
       "      <td>1.479782e+09</td>\n",
       "      <td></td>\n",
       "    </tr>\n",
       "    <tr>\n",
       "      <td>4</td>\n",
       "      <td>Just watched this guy house a 2 liter bottle o...</td>\n",
       "      <td>1906</td>\n",
       "      <td>340x5o</td>\n",
       "      <td>http://imgur.com/B0baNHN</td>\n",
       "      <td>164</td>\n",
       "      <td>1.430168e+09</td>\n",
       "      <td></td>\n",
       "    </tr>\n",
       "    <tr>\n",
       "      <td>...</td>\n",
       "      <td>...</td>\n",
       "      <td>...</td>\n",
       "      <td>...</td>\n",
       "      <td>...</td>\n",
       "      <td>...</td>\n",
       "      <td>...</td>\n",
       "      <td>...</td>\n",
       "    </tr>\n",
       "    <tr>\n",
       "      <td>495</td>\n",
       "      <td>US OPM - DC area Federal Government Operating ...</td>\n",
       "      <td>573</td>\n",
       "      <td>asia65</td>\n",
       "      <td>https://www.opm.gov/policy-data-oversight/snow...</td>\n",
       "      <td>132</td>\n",
       "      <td>1.550656e+09</td>\n",
       "      <td></td>\n",
       "    </tr>\n",
       "    <tr>\n",
       "      <td>496</td>\n",
       "      <td>Good Guy Hawaii - Passes State Law Urging Stat...</td>\n",
       "      <td>582</td>\n",
       "      <td>46vebv</td>\n",
       "      <td>http://www.capitol.hawaii.gov/session2016/bill...</td>\n",
       "      <td>61</td>\n",
       "      <td>1.456093e+09</td>\n",
       "      <td></td>\n",
       "    </tr>\n",
       "    <tr>\n",
       "      <td>497</td>\n",
       "      <td>L’Enfant Plaza this morning</td>\n",
       "      <td>579</td>\n",
       "      <td>e1x4n4</td>\n",
       "      <td>https://i.redd.it/d86pslu6v0141.jpg</td>\n",
       "      <td>82</td>\n",
       "      <td>1.574799e+09</td>\n",
       "      <td></td>\n",
       "    </tr>\n",
       "    <tr>\n",
       "      <td>498</td>\n",
       "      <td>Awesome DC Mural</td>\n",
       "      <td>577</td>\n",
       "      <td>dhsxdj</td>\n",
       "      <td>https://i.redd.it/jwvrnknm8js31.jpg</td>\n",
       "      <td>18</td>\n",
       "      <td>1.571099e+09</td>\n",
       "      <td></td>\n",
       "    </tr>\n",
       "    <tr>\n",
       "      <td>499</td>\n",
       "      <td>Sweetgreen giving out free meals for federal w...</td>\n",
       "      <td>576</td>\n",
       "      <td>aewdav</td>\n",
       "      <td>https://imgur.com/7Jr6IHJ</td>\n",
       "      <td>23</td>\n",
       "      <td>1.547249e+09</td>\n",
       "      <td></td>\n",
       "    </tr>\n",
       "  </tbody>\n",
       "</table>\n",
       "<p>500 rows × 7 columns</p>\n",
       "</div>"
      ],
      "text/plain": [
       "                                                 title  score      id  \\\n",
       "0                              Every little bit counts   9187  5pcees   \n",
       "1    This is how many people are at the Women's Mar...   5794  5pbdhm   \n",
       "2    Just out for a little jog today before the hur...   2876  129vlt   \n",
       "3                 We really live in a beautiful place.   2225  5e5nhz   \n",
       "4    Just watched this guy house a 2 liter bottle o...   1906  340x5o   \n",
       "..                                                 ...    ...     ...   \n",
       "495  US OPM - DC area Federal Government Operating ...    573  asia65   \n",
       "496  Good Guy Hawaii - Passes State Law Urging Stat...    582  46vebv   \n",
       "497                        L’Enfant Plaza this morning    579  e1x4n4   \n",
       "498                                   Awesome DC Mural    577  dhsxdj   \n",
       "499  Sweetgreen giving out free meals for federal w...    576  aewdav   \n",
       "\n",
       "                                                   url  comms_num  \\\n",
       "0    https://i.reddituploads.com/fa91b455743943a6bf...       1035   \n",
       "1                   https://i.redd.it/4r0jhwibd3by.jpg       1103   \n",
       "2                         http://i.imgur.com/bHtwi.jpg        334   \n",
       "3                   https://i.redd.it/hfdeeuyqo0zx.jpg         46   \n",
       "4                             http://imgur.com/B0baNHN        164   \n",
       "..                                                 ...        ...   \n",
       "495  https://www.opm.gov/policy-data-oversight/snow...        132   \n",
       "496  http://www.capitol.hawaii.gov/session2016/bill...         61   \n",
       "497                https://i.redd.it/d86pslu6v0141.jpg         82   \n",
       "498                https://i.redd.it/jwvrnknm8js31.jpg         18   \n",
       "499                          https://imgur.com/7Jr6IHJ         23   \n",
       "\n",
       "          created body  \n",
       "0    1.485056e+09       \n",
       "1    1.485045e+09       \n",
       "2    1.351547e+09       \n",
       "3    1.479782e+09       \n",
       "4    1.430168e+09       \n",
       "..            ...  ...  \n",
       "495  1.550656e+09       \n",
       "496  1.456093e+09       \n",
       "497  1.574799e+09       \n",
       "498  1.571099e+09       \n",
       "499  1.547249e+09       \n",
       "\n",
       "[500 rows x 7 columns]"
      ]
     },
     "execution_count": 12,
     "metadata": {},
     "output_type": "execute_result"
    }
   ],
   "source": [
    "topics_data"
   ]
  },
  {
   "cell_type": "code",
   "execution_count": 13,
   "metadata": {},
   "outputs": [],
   "source": [
    "def get_date(created):\n",
    "    return dt.datetime.fromtimestamp(created)"
   ]
  },
  {
   "cell_type": "code",
   "execution_count": 14,
   "metadata": {},
   "outputs": [],
   "source": [
    "_timestamp = topics_data[\"created\"].apply(get_date)"
   ]
  },
  {
   "cell_type": "code",
   "execution_count": 15,
   "metadata": {},
   "outputs": [],
   "source": [
    "topics_data = topics_data.assign(timestamp = _timestamp)"
   ]
  },
  {
   "cell_type": "code",
   "execution_count": 16,
   "metadata": {},
   "outputs": [],
   "source": [
    "topics_data.to_csv('~/Desktop/subreddit.csv', index=False)"
   ]
  },
  {
   "cell_type": "code",
   "execution_count": null,
   "metadata": {},
   "outputs": [],
   "source": []
  }
 ],
 "metadata": {
  "kernelspec": {
   "display_name": "Python 3",
   "language": "python",
   "name": "python3"
  },
  "language_info": {
   "codemirror_mode": {
    "name": "ipython",
    "version": 3
   },
   "file_extension": ".py",
   "mimetype": "text/x-python",
   "name": "python",
   "nbconvert_exporter": "python",
   "pygments_lexer": "ipython3",
   "version": "3.7.4"
  }
 },
 "nbformat": 4,
 "nbformat_minor": 2
}
